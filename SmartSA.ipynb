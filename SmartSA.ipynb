{
  "cells": [
    {
      "cell_type": "markdown",
      "metadata": {
        "id": "view-in-github",
        "colab_type": "text"
      },
      "source": [
        "<a href=\"https://colab.research.google.com/github/nakhimchea/sentiment_analysis_ipynb/blob/main/SmartSA.ipynb\" target=\"_parent\"><img src=\"https://colab.research.google.com/assets/colab-badge.svg\" alt=\"Open In Colab\"/></a>"
      ]
    },
    {
      "cell_type": "markdown",
      "metadata": {
        "id": "sLJi7Uq73aXi"
      },
      "source": [
        "# *Import Libraries*"
      ]
    },
    {
      "cell_type": "markdown",
      "metadata": {
        "id": "es668-bQ4eWU"
      },
      "source": [
        "**SmartSA: Analysis of Tweeter and Apply to Strategy**"
      ]
    },
    {
      "cell_type": "code",
      "execution_count": null,
      "metadata": {
        "id": "Tr6WFzvm2Vsa"
      },
      "outputs": [],
      "source": [
        "!pip install transformers\n",
        "from transformers import AutoTokenizer, AutoModelForSequenceClassification\n",
        "from scipy.special import softmax\n",
        "\n",
        "import time\n",
        "import numpy\n",
        "import pandas"
      ]
    },
    {
      "cell_type": "markdown",
      "metadata": {
        "id": "96Le8_eM3L_Q"
      },
      "source": [
        "**Twitter Scraping**"
      ]
    },
    {
      "cell_type": "code",
      "execution_count": null,
      "metadata": {
        "id": "cgMln_yB3v1h"
      },
      "outputs": [],
      "source": [
        "!pip install snscrape\n",
        "import snscrape.modules.twitter as twitter"
      ]
    },
    {
      "cell_type": "markdown",
      "metadata": {
        "id": "Z1x87Ank4KjS"
      },
      "source": [
        "# *Loading RoBERTa model*"
      ]
    },
    {
      "cell_type": "markdown",
      "metadata": {
        "id": "H2nUweSS-nqy"
      },
      "source": [
        "**Get Model**"
      ]
    },
    {
      "cell_type": "code",
      "execution_count": null,
      "metadata": {
        "id": "Ntt_BP174jr7"
      },
      "outputs": [],
      "source": [
        "RoBERTa = 'cardiffnlp/twitter-roberta-base-sentiment'\n",
        "model = AutoModelForSequenceClassification.from_pretrained(RoBERTa)"
      ]
    },
    {
      "cell_type": "markdown",
      "metadata": {
        "id": "WutQEMPALRjQ"
      },
      "source": [
        "**Initialize Tokenizer**"
      ]
    },
    {
      "cell_type": "code",
      "execution_count": null,
      "metadata": {
        "id": "DHXMGTGBLQNm"
      },
      "outputs": [],
      "source": [
        "tokenizer = AutoTokenizer.from_pretrained(RoBERTa)"
      ]
    },
    {
      "cell_type": "markdown",
      "metadata": {
        "id": "6ILhSd1ZLQBA"
      },
      "source": []
    },
    {
      "cell_type": "markdown",
      "metadata": {
        "id": "d5TEIGJE_F4H"
      },
      "source": [
        "**Sparse Labels**"
      ]
    },
    {
      "cell_type": "code",
      "execution_count": 5,
      "metadata": {
        "id": "NCfDoCaR_L0Q"
      },
      "outputs": [],
      "source": [
        "labels = ['Negative', 'Neutral', 'Positive']"
      ]
    },
    {
      "cell_type": "markdown",
      "metadata": {
        "id": "PwUhTxIK4sUE"
      },
      "source": [
        "# *Getting Data from Social Network (Twitter)*"
      ]
    },
    {
      "cell_type": "markdown",
      "metadata": {
        "id": "7VlHacE05GS6"
      },
      "source": [
        "**Search Query**"
      ]
    },
    {
      "cell_type": "code",
      "execution_count": 80,
      "metadata": {
        "id": "V0X9Tn6n5Epd"
      },
      "outputs": [],
      "source": [
        "query = 'BTC (BTC OR ETH OR SOL OR NEAR) -DOGE -SHIB lang:en min_replies:2 min_faves:1 min_retweets:0 since_time:1654621200 until_time:1655053200'\n",
        "limit = 1000"
      ]
    },
    {
      "cell_type": "markdown",
      "metadata": {
        "id": "naBNBOMd5gRr"
      },
      "source": [
        "**Query Tweets and Preprocessing**"
      ]
    },
    {
      "cell_type": "code",
      "execution_count": 81,
      "metadata": {
        "id": "gUnKrdSK5pWI"
      },
      "outputs": [],
      "source": [
        "tweets = []\n",
        "for tweet in twitter.TwitterSearchScraper(query).get_items():\n",
        "  # print(tweet)\n",
        "  \n",
        "  #preprocessing tweets\n",
        "  tweetWords = []\n",
        "  for word in tweet.content.split(' '):\n",
        "    if word.startswith('@') and len(word) > 1:\n",
        "      word = '@user'\n",
        "    elif word.startswith('http'):\n",
        "      word = 'http'\n",
        "    tweetWords.append(word)\n",
        "\n",
        "  tweetContent = ' '.join(tweetWords)\n",
        "\n",
        "  if len(tweets) == limit:\n",
        "    break\n",
        "  else:\n",
        "    tweets.append([tweet.date, tweet.username, tweetContent])\n",
        "\n",
        "tweetsDF = pandas.DataFrame(tweets, columns=['Date', 'User', 'Tweet'])"
      ]
    },
    {
      "cell_type": "markdown",
      "metadata": {
        "id": "icVTaiUJJujm"
      },
      "source": [
        "**Print DataFrame**"
      ]
    },
    {
      "cell_type": "code",
      "execution_count": 82,
      "metadata": {
        "colab": {
          "base_uri": "https://localhost:8080/"
        },
        "id": "XfLwOeRRJzdU",
        "outputId": "1759a19c-ca1f-4682-80be-3bd25f7eba53"
      },
      "outputs": [
        {
          "output_type": "stream",
          "name": "stdout",
          "text": [
            "                         Date             User  \\\n",
            "0   2022-06-12 16:56:37+00:00         BigCheds   \n",
            "1   2022-06-12 16:55:50+00:00  thedeliriumclub   \n",
            "2   2022-06-12 16:55:07+00:00  CrazyLadyTrader   \n",
            "3   2022-06-12 16:53:46+00:00           tihols   \n",
            "4   2022-06-12 16:53:09+00:00          nomee83   \n",
            "..                        ...              ...   \n",
            "995 2022-06-11 18:29:52+00:00       JohalMiles   \n",
            "996 2022-06-11 18:29:25+00:00        Andy47640   \n",
            "997 2022-06-11 18:27:43+00:00    capitalist_sd   \n",
            "998 2022-06-11 18:27:26+00:00  ItsAirplaneJane   \n",
            "999 2022-06-11 18:24:37+00:00    davevickery12   \n",
            "\n",
            "                                                 Tweet  \n",
            "0    $BTC 4H so far rejected at confluence of under...  \n",
            "1    The Real #NFTcollectors come, justify and coll...  \n",
            "2    Sure I believe it got too overhyped. It was in...  \n",
            "3    @user Are you considering the BTC pair as well...  \n",
            "4      @user What you think today btc pump bull trap ?  \n",
            "..                                                 ...  \n",
            "995  DXY going back for another run at the highs.\\n...  \n",
            "996  @user @user @user @user Which was achieved ear...  \n",
            "997  Still you people selling $ETH..?\\n\\n$ETH, $BTC...  \n",
            "998  #BTC next #AVWAP looks to be around 26,560 on ...  \n",
            "999  @user Depends on the exchange.  A lot are prob...  \n",
            "\n",
            "[1000 rows x 3 columns]\n"
          ]
        }
      ],
      "source": [
        "print(tweetsDF)"
      ]
    },
    {
      "cell_type": "markdown",
      "metadata": {
        "id": "FPBjEFiA6Vzj"
      },
      "source": [
        "**Save Tweets**"
      ]
    },
    {
      "cell_type": "code",
      "execution_count": 70,
      "metadata": {
        "id": "0mIijzlw6YwB"
      },
      "outputs": [],
      "source": [
        "tweetsDF.to_csv('tweets.csv')"
      ]
    },
    {
      "cell_type": "markdown",
      "metadata": {
        "id": "TxIzpkzY_Tqp"
      },
      "source": [
        "# *Sentiment Analysis*"
      ]
    },
    {
      "cell_type": "markdown",
      "metadata": {
        "id": "BjQ_4_8OBEPQ"
      },
      "source": [
        "**Tweet Classifications**"
      ]
    },
    {
      "cell_type": "code",
      "execution_count": 86,
      "metadata": {
        "id": "rA7r44CxBKJC"
      },
      "outputs": [],
      "source": [
        "target = []\n",
        "for index in range(len(tweetsDF.Tweet)):\n",
        "  encodedTweet = tokenizer(tweetsDF.Tweet[index], return_tensors='pt')\n",
        "  roBERTaBottleNeck = model(**encodedTweet)\n",
        "  probabilities = softmax(roBERTaBottleNeck[0][0].detach().numpy())\n",
        "  #probabilities = [probabilities[0]+probabilities[1], probabilities[1]+probabilities[2]]\n",
        "\n",
        "  #newLabels = ['Negative', 'Positive']\n",
        "  target.append([tweetsDF.Tweet[index], labels[numpy.argmax(probabilities)]])"
      ]
    },
    {
      "cell_type": "markdown",
      "metadata": {
        "id": "TtF1ctvGB6Mz"
      },
      "source": [
        "**Classification Table**"
      ]
    },
    {
      "cell_type": "code",
      "execution_count": 87,
      "metadata": {
        "colab": {
          "base_uri": "https://localhost:8080/"
        },
        "id": "tBDbk7FLCB6m",
        "outputId": "9ffcddbe-4ded-4db5-c1c9-891ffbe8f9c2"
      },
      "outputs": [
        {
          "output_type": "stream",
          "name": "stdout",
          "text": [
            "                                                 Tweet Annotation\n",
            "0    $BTC 4H so far rejected at confluence of under...   Negative\n",
            "1    The Real #NFTcollectors come, justify and coll...    Neutral\n",
            "2    Sure I believe it got too overhyped. It was in...   Negative\n",
            "3    @user Are you considering the BTC pair as well...    Neutral\n",
            "4      @user What you think today btc pump bull trap ?    Neutral\n",
            "..                                                 ...        ...\n",
            "995  DXY going back for another run at the highs.\\n...    Neutral\n",
            "996  @user @user @user @user Which was achieved ear...    Neutral\n",
            "997  Still you people selling $ETH..?\\n\\n$ETH, $BTC...    Neutral\n",
            "998  #BTC next #AVWAP looks to be around 26,560 on ...    Neutral\n",
            "999  @user Depends on the exchange.  A lot are prob...    Neutral\n",
            "\n",
            "[1000 rows x 2 columns]\n"
          ]
        }
      ],
      "source": [
        "targetTable = pandas.DataFrame(target, columns=['Tweet', 'Annotation'])\n",
        "print(targetTable)"
      ]
    },
    {
      "cell_type": "markdown",
      "source": [
        "**Normalize Result**"
      ],
      "metadata": {
        "id": "gGNjXPqqxrxJ"
      }
    },
    {
      "cell_type": "code",
      "source": [
        "countLabels = [0, 0, 0]\n",
        "for index in range(0, len(targetTable.Annotation)):\n",
        "  if targetTable.Annotation[index] == labels[0]:\n",
        "    countLabels[0] += 1\n",
        "  elif targetTable.Annotation[index] == labels[1]:\n",
        "    countLabels[1] += 1\n",
        "  elif targetTable.Annotation[index] == labels[2]:\n",
        "    countLabels[2] += 1\n",
        "\n",
        "print('Probability      : {:.2f} {:.2f} {:.2f}'.format(countLabels[0]/sum(countLabels), countLabels[1]/sum(countLabels), countLabels[2]/sum(countLabels)))\n",
        "print('Final Analysis   : {}'.format(labels[numpy.argmax(countLabels)]))\n",
        "print('Confidentiality  : {:.2f}%'.format(countLabels[numpy.argmax(countLabels)]/sum(countLabels)*100))"
      ],
      "metadata": {
        "colab": {
          "base_uri": "https://localhost:8080/"
        },
        "id": "LtRfqdkqxvn0",
        "outputId": "8e3a5cac-5299-43b2-f5a2-8f43c6c5c515"
      },
      "execution_count": 88,
      "outputs": [
        {
          "output_type": "stream",
          "name": "stdout",
          "text": [
            "Probability      : 0.22 0.58 0.20\n",
            "Final Analysis   : Neutral\n",
            "Confidentiality  : 58.20%\n"
          ]
        }
      ]
    }
  ],
  "metadata": {
    "colab": {
      "collapsed_sections": [],
      "provenance": [],
      "authorship_tag": "ABX9TyP1YXRAjx7oar2rL+PKWThE",
      "include_colab_link": true
    },
    "kernelspec": {
      "display_name": "Python 3",
      "name": "python3"
    },
    "language_info": {
      "name": "python"
    }
  },
  "nbformat": 4,
  "nbformat_minor": 0
}