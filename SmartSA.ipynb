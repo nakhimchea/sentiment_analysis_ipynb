{
  "cells": [
    {
      "cell_type": "markdown",
      "metadata": {
        "id": "view-in-github",
        "colab_type": "text"
      },
      "source": [
        "<a href=\"https://colab.research.google.com/github/nakhimchea/sentiment_analysis_ipynb/blob/main/SmartSA.ipynb\" target=\"_parent\"><img src=\"https://colab.research.google.com/assets/colab-badge.svg\" alt=\"Open In Colab\"/></a>"
      ]
    },
    {
      "cell_type": "markdown",
      "metadata": {
        "id": "sLJi7Uq73aXi"
      },
      "source": [
        "# *Import Libraries*"
      ]
    },
    {
      "cell_type": "markdown",
      "metadata": {
        "id": "es668-bQ4eWU"
      },
      "source": [
        "**SmartSA: Analysis of Tweeter and Apply to Strategy**"
      ]
    },
    {
      "cell_type": "code",
      "execution_count": null,
      "metadata": {
        "id": "Tr6WFzvm2Vsa"
      },
      "outputs": [],
      "source": [
        "!pip install transformers\n",
        "from transformers import AutoTokenizer, AutoModelForSequenceClassification\n",
        "from scipy.special import softmax\n",
        "\n",
        "import numpy\n",
        "import pandas"
      ]
    },
    {
      "cell_type": "markdown",
      "metadata": {
        "id": "96Le8_eM3L_Q"
      },
      "source": [
        "**Twitter Scraping**"
      ]
    },
    {
      "cell_type": "code",
      "execution_count": null,
      "metadata": {
        "id": "cgMln_yB3v1h"
      },
      "outputs": [],
      "source": [
        "!pip install snscrape\n",
        "import snscrape.modules.twitter as twitter"
      ]
    },
    {
      "cell_type": "markdown",
      "metadata": {
        "id": "Z1x87Ank4KjS"
      },
      "source": [
        "# *Loading RoBERTa model*"
      ]
    },
    {
      "cell_type": "markdown",
      "metadata": {
        "id": "H2nUweSS-nqy"
      },
      "source": [
        "**Get Model**"
      ]
    },
    {
      "cell_type": "code",
      "execution_count": null,
      "metadata": {
        "id": "Ntt_BP174jr7"
      },
      "outputs": [],
      "source": [
        "RoBERTa = 'cardiffnlp/twitter-roberta-base-sentiment'\n",
        "model = AutoModelForSequenceClassification.from_pretrained(RoBERTa)"
      ]
    },
    {
      "cell_type": "markdown",
      "metadata": {
        "id": "WutQEMPALRjQ"
      },
      "source": [
        "**Initialize Tokenizer**"
      ]
    },
    {
      "cell_type": "code",
      "execution_count": null,
      "metadata": {
        "id": "DHXMGTGBLQNm"
      },
      "outputs": [],
      "source": [
        "tokenizer = AutoTokenizer.from_pretrained(RoBERTa)"
      ]
    },
    {
      "cell_type": "markdown",
      "metadata": {
        "id": "6ILhSd1ZLQBA"
      },
      "source": []
    },
    {
      "cell_type": "markdown",
      "metadata": {
        "id": "d5TEIGJE_F4H"
      },
      "source": [
        "**Sparse Labels**"
      ]
    },
    {
      "cell_type": "code",
      "execution_count": 5,
      "metadata": {
        "id": "NCfDoCaR_L0Q"
      },
      "outputs": [],
      "source": [
        "labels = ['Negative', 'Neutral', 'Positive']"
      ]
    },
    {
      "cell_type": "markdown",
      "metadata": {
        "id": "PwUhTxIK4sUE"
      },
      "source": [
        "# *Getting Data from Social Network (Twitter)*"
      ]
    },
    {
      "cell_type": "markdown",
      "metadata": {
        "id": "7VlHacE05GS6"
      },
      "source": [
        "**Search Query**"
      ]
    },
    {
      "cell_type": "code",
      "execution_count": 31,
      "metadata": {
        "id": "V0X9Tn6n5Epd"
      },
      "outputs": [],
      "source": [
        "query = 'BTC (BTC OR ETH OR SOL OR NEAR) -DOGE -SHIB lang:en min_replies:2 min_faves:10 min_retweets:5 since_time:1667192400'\n",
        "limit = 1000"
      ]
    },
    {
      "cell_type": "markdown",
      "metadata": {
        "id": "naBNBOMd5gRr"
      },
      "source": [
        "**Query Tweets and Preprocessing**"
      ]
    },
    {
      "cell_type": "code",
      "execution_count": 32,
      "metadata": {
        "id": "gUnKrdSK5pWI"
      },
      "outputs": [],
      "source": [
        "tweets = []\n",
        "for tweet in twitter.TwitterSearchScraper(query).get_items():\n",
        "  # print(tweet)\n",
        "  \n",
        "  #preprocessing tweets\n",
        "  tweetWords = []\n",
        "  for word in tweet.content.split(' '):\n",
        "    if word.startswith('@') and len(word) > 1:\n",
        "      word = '@user'\n",
        "    elif word.startswith('http'):\n",
        "      word = 'http'\n",
        "    tweetWords.append(word)\n",
        "\n",
        "  tweetContent = ' '.join(tweetWords)\n",
        "\n",
        "  if len(tweets) == limit:\n",
        "    break\n",
        "  else:\n",
        "    tweets.append([tweet.date, tweet.username, tweetContent])\n",
        "\n",
        "tweetsDF = pandas.DataFrame(tweets, columns=['Date', 'User', 'Tweet'])"
      ]
    },
    {
      "cell_type": "markdown",
      "metadata": {
        "id": "icVTaiUJJujm"
      },
      "source": [
        "**Print DataFrame**"
      ]
    },
    {
      "cell_type": "code",
      "execution_count": 33,
      "metadata": {
        "colab": {
          "base_uri": "https://localhost:8080/"
        },
        "id": "XfLwOeRRJzdU",
        "outputId": "2cda82d5-153c-4de7-fb50-637d3c143365"
      },
      "outputs": [
        {
          "output_type": "stream",
          "name": "stdout",
          "text": [
            "                         Date             User  \\\n",
            "0   2022-10-31 15:23:11+00:00     CryptoNoob_1   \n",
            "1   2022-10-31 15:18:58+00:00       JohalMiles   \n",
            "2   2022-10-31 15:17:30+00:00      Justin_Bons   \n",
            "3   2022-10-31 15:08:58+00:00         H_AAsfar   \n",
            "4   2022-10-31 15:05:09+00:00   SatoshiFlipper   \n",
            "..                        ...              ...   \n",
            "186 2022-10-31 05:12:16+00:00       Bearomon10   \n",
            "187 2022-10-31 05:12:02+00:00     cryptohunnys   \n",
            "188 2022-10-31 05:10:10+00:00   Bybit_Official   \n",
            "189 2022-10-31 05:01:21+00:00  LEXCOINOFFICIAL   \n",
            "190 2022-10-31 05:00:07+00:00      mark_cullen   \n",
            "\n",
            "                                                 Tweet  \n",
            "0    Is #Bitcoin once again at its apex where it is...  \n",
            "1    Going to keep posting this until the melt up s...  \n",
            "2    Happy Bitcoin Whitepaper Day!\\n\\nPlease use al...  \n",
            "3    A team working day and night to put the Gulf p...  \n",
            "4    Getting a kick out of all the imminent $BTC co...  \n",
            "..                                                 ...  \n",
            "186  #Altcoins are popping here &amp; there some ev...  \n",
            "187  NEWS: The U.S. Department of Justice has accus...  \n",
            "188  Pfft, hallow-what? 🎃 Celebrate the big day wit...  \n",
            "189  Get ready for #LEXCOIN\\nKnow more: http #NFT #...  \n",
            "190  #GM #Crypto \\n\\n#Bitcoin pulled back to the 20...  \n",
            "\n",
            "[191 rows x 3 columns]\n"
          ]
        }
      ],
      "source": [
        "print(tweetsDF)"
      ]
    },
    {
      "cell_type": "markdown",
      "metadata": {
        "id": "FPBjEFiA6Vzj"
      },
      "source": [
        "**Save Tweets**"
      ]
    },
    {
      "cell_type": "code",
      "execution_count": 21,
      "metadata": {
        "id": "0mIijzlw6YwB"
      },
      "outputs": [],
      "source": [
        "tweetsDF.to_csv('tweets.csv')"
      ]
    },
    {
      "cell_type": "markdown",
      "metadata": {
        "id": "TxIzpkzY_Tqp"
      },
      "source": [
        "# *Sentiment Analysis*"
      ]
    },
    {
      "cell_type": "markdown",
      "metadata": {
        "id": "BjQ_4_8OBEPQ"
      },
      "source": [
        "**Tweet Classifications**"
      ]
    },
    {
      "cell_type": "code",
      "execution_count": 34,
      "metadata": {
        "id": "rA7r44CxBKJC"
      },
      "outputs": [],
      "source": [
        "target = []\n",
        "for index in range(len(tweetsDF.Tweet)):\n",
        "  encodedTweet = tokenizer(tweetsDF.Tweet[index], return_tensors='pt')\n",
        "  roBERTaBottleNeck = model(**encodedTweet)\n",
        "  probabilities = softmax(roBERTaBottleNeck[0][0].detach().numpy())\n",
        "\n",
        "  target.append([tweetsDF.Tweet[index], labels[numpy.argmax(probabilities)]])"
      ]
    },
    {
      "cell_type": "markdown",
      "metadata": {
        "id": "TtF1ctvGB6Mz"
      },
      "source": [
        "**Classification Table**"
      ]
    },
    {
      "cell_type": "code",
      "execution_count": 35,
      "metadata": {
        "colab": {
          "base_uri": "https://localhost:8080/"
        },
        "id": "tBDbk7FLCB6m",
        "outputId": "5e7f98b8-bff9-45a9-e599-2b504ffc0f56"
      },
      "outputs": [
        {
          "output_type": "stream",
          "name": "stdout",
          "text": [
            "                                                 Tweet Annotation\n",
            "0    Is #Bitcoin once again at its apex where it is...    Neutral\n",
            "1    Going to keep posting this until the melt up s...    Neutral\n",
            "2    Happy Bitcoin Whitepaper Day!\\n\\nPlease use al...   Positive\n",
            "3    A team working day and night to put the Gulf p...   Positive\n",
            "4    Getting a kick out of all the imminent $BTC co...    Neutral\n",
            "..                                                 ...        ...\n",
            "186  #Altcoins are popping here &amp; there some ev...    Neutral\n",
            "187  NEWS: The U.S. Department of Justice has accus...   Negative\n",
            "188  Pfft, hallow-what? 🎃 Celebrate the big day wit...   Positive\n",
            "189  Get ready for #LEXCOIN\\nKnow more: http #NFT #...    Neutral\n",
            "190  #GM #Crypto \\n\\n#Bitcoin pulled back to the 20...    Neutral\n",
            "\n",
            "[191 rows x 2 columns]\n"
          ]
        }
      ],
      "source": [
        "targetTable = pandas.DataFrame(target, columns=['Tweet', 'Annotation'])\n",
        "print(targetTable)"
      ]
    },
    {
      "cell_type": "markdown",
      "source": [
        "**Normalize Result**"
      ],
      "metadata": {
        "id": "gGNjXPqqxrxJ"
      }
    },
    {
      "cell_type": "code",
      "source": [
        "countLabels = [0, 0, 0]\n",
        "for index in range(0, len(targetTable.Annotation)):\n",
        "  if targetTable.Annotation[index] == labels[0]:\n",
        "    countLabels[0] += 1\n",
        "  elif targetTable.Annotation[index] == labels[1]:\n",
        "    countLabels[1] += 1\n",
        "  elif targetTable.Annotation[index] == labels[2]:\n",
        "    countLabels[2] += 1\n",
        "\n",
        "print('Probability      : {:.2f} {:.2f} {:.2f}'.format(countLabels[0]/sum(countLabels), countLabels[1]/sum(countLabels), countLabels[2]/sum(countLabels)))\n",
        "print('Final Analysis   : {}'.format(labels[numpy.argmax(countLabels)]))\n",
        "print('Confidentiality  : {:.2f}%'.format(countLabels[numpy.argmax(countLabels)]/sum(countLabels)*100))"
      ],
      "metadata": {
        "colab": {
          "base_uri": "https://localhost:8080/"
        },
        "id": "LtRfqdkqxvn0",
        "outputId": "b0c746d1-00e1-4efe-a0d0-017c726b8e59"
      },
      "execution_count": 36,
      "outputs": [
        {
          "output_type": "stream",
          "name": "stdout",
          "text": [
            "Probability      : 0.05 0.46 0.49\n",
            "Final Analysis   : Positive\n",
            "Confidentiality  : 49.21%\n"
          ]
        }
      ]
    }
  ],
  "metadata": {
    "colab": {
      "collapsed_sections": [],
      "provenance": [],
      "authorship_tag": "ABX9TyMWxVbxBviWvkhKELZISBbI",
      "include_colab_link": true
    },
    "kernelspec": {
      "display_name": "Python 3",
      "name": "python3"
    },
    "language_info": {
      "name": "python"
    }
  },
  "nbformat": 4,
  "nbformat_minor": 0
}