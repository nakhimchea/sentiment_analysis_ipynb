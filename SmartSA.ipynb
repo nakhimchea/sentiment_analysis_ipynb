{
  "cells": [
    {
      "cell_type": "markdown",
      "metadata": {
        "id": "view-in-github",
        "colab_type": "text"
      },
      "source": [
        "<a href=\"https://colab.research.google.com/github/nakhimchea/sentiment_analysis_ipynb/blob/main/SmartSA.ipynb\" target=\"_parent\"><img src=\"https://colab.research.google.com/assets/colab-badge.svg\" alt=\"Open In Colab\"/></a>"
      ]
    },
    {
      "cell_type": "markdown",
      "metadata": {
        "id": "sLJi7Uq73aXi"
      },
      "source": [
        "# *Import Libraries*"
      ]
    },
    {
      "cell_type": "markdown",
      "metadata": {
        "id": "es668-bQ4eWU"
      },
      "source": [
        "**SmartSA: Analysis of Tweeter and Apply to Strategy**"
      ]
    },
    {
      "cell_type": "code",
      "execution_count": null,
      "metadata": {
        "id": "Tr6WFzvm2Vsa"
      },
      "outputs": [],
      "source": [
        "!pip install transformers\n",
        "from transformers import AutoTokenizer, AutoModelForSequenceClassification\n",
        "from scipy.special import softmax\n",
        "\n",
        "import numpy\n",
        "import pandas"
      ]
    },
    {
      "cell_type": "markdown",
      "metadata": {
        "id": "96Le8_eM3L_Q"
      },
      "source": [
        "**Twitter Scraping**"
      ]
    },
    {
      "cell_type": "code",
      "execution_count": null,
      "metadata": {
        "id": "cgMln_yB3v1h"
      },
      "outputs": [],
      "source": [
        "!pip install snscrape\n",
        "import snscrape.modules.twitter as twitter"
      ]
    },
    {
      "cell_type": "markdown",
      "metadata": {
        "id": "Z1x87Ank4KjS"
      },
      "source": [
        "# *Loading RoBERTa model*"
      ]
    },
    {
      "cell_type": "markdown",
      "metadata": {
        "id": "H2nUweSS-nqy"
      },
      "source": [
        "**Get Model**"
      ]
    },
    {
      "cell_type": "code",
      "execution_count": null,
      "metadata": {
        "id": "Ntt_BP174jr7"
      },
      "outputs": [],
      "source": [
        "RoBERTa = 'cardiffnlp/twitter-roberta-base-sentiment'\n",
        "model = AutoModelForSequenceClassification.from_pretrained(RoBERTa)"
      ]
    },
    {
      "cell_type": "markdown",
      "metadata": {
        "id": "WutQEMPALRjQ"
      },
      "source": [
        "**Initialize Tokenizer**"
      ]
    },
    {
      "cell_type": "code",
      "execution_count": null,
      "metadata": {
        "id": "DHXMGTGBLQNm"
      },
      "outputs": [],
      "source": [
        "tokenizer = AutoTokenizer.from_pretrained(RoBERTa)"
      ]
    },
    {
      "cell_type": "markdown",
      "metadata": {
        "id": "6ILhSd1ZLQBA"
      },
      "source": []
    },
    {
      "cell_type": "markdown",
      "metadata": {
        "id": "d5TEIGJE_F4H"
      },
      "source": [
        "**Sparse Labels**"
      ]
    },
    {
      "cell_type": "code",
      "execution_count": 5,
      "metadata": {
        "id": "NCfDoCaR_L0Q"
      },
      "outputs": [],
      "source": [
        "labels = ['Negative', 'Neutral', 'Positive']"
      ]
    },
    {
      "cell_type": "markdown",
      "metadata": {
        "id": "PwUhTxIK4sUE"
      },
      "source": [
        "# *Getting Data from Social Network (Twitter)*"
      ]
    },
    {
      "cell_type": "markdown",
      "metadata": {
        "id": "7VlHacE05GS6"
      },
      "source": [
        "**Search Query**"
      ]
    },
    {
      "cell_type": "code",
      "execution_count": 69,
      "metadata": {
        "id": "V0X9Tn6n5Epd"
      },
      "outputs": [],
      "source": [
        "query = 'BTC ETH (BTC OR ETH OR SOL OR NEAR) -DOGE -SHIB lang:en min_replies:2 min_faves:10 min_retweets:5 since_time:1667115400'\n",
        "limit = 1000"
      ]
    },
    {
      "cell_type": "markdown",
      "metadata": {
        "id": "naBNBOMd5gRr"
      },
      "source": [
        "**Query Tweets and Preprocessing**"
      ]
    },
    {
      "cell_type": "code",
      "execution_count": 70,
      "metadata": {
        "id": "gUnKrdSK5pWI"
      },
      "outputs": [],
      "source": [
        "tweets = []\n",
        "for tweet in twitter.TwitterSearchScraper(query).get_items():\n",
        "  # print(tweet)\n",
        "  \n",
        "  #preprocessing tweets\n",
        "  tweetWords = []\n",
        "  for word in tweet.content.split(' '):\n",
        "    if word.startswith('@') and len(word) > 1:\n",
        "      word = '@user'\n",
        "    elif word.startswith('http'):\n",
        "      word = 'http'\n",
        "    tweetWords.append(word)\n",
        "\n",
        "  tweetContent = ' '.join(tweetWords)\n",
        "\n",
        "  if len(tweets) == limit:\n",
        "    break\n",
        "  else:\n",
        "    tweets.append([tweet.date, tweet.username, tweetContent])\n",
        "\n",
        "tweetsDF = pandas.DataFrame(tweets, columns=['Date', 'User', 'Tweet'])"
      ]
    },
    {
      "cell_type": "markdown",
      "metadata": {
        "id": "icVTaiUJJujm"
      },
      "source": [
        "**Print DataFrame**"
      ]
    },
    {
      "cell_type": "code",
      "execution_count": 71,
      "metadata": {
        "colab": {
          "base_uri": "https://localhost:8080/"
        },
        "id": "XfLwOeRRJzdU",
        "outputId": "e7f3b243-6122-4c73-a806-b7efcc15a87e"
      },
      "outputs": [
        {
          "output_type": "stream",
          "name": "stdout",
          "text": [
            "                         Date             User  \\\n",
            "0   2022-10-31 07:12:51+00:00     Sangita_gems   \n",
            "1   2022-10-31 07:09:04+00:00  nftanothersigma   \n",
            "2   2022-10-31 06:54:24+00:00        EthEiNino   \n",
            "3   2022-10-31 06:38:22+00:00       Johnnyjhn7   \n",
            "4   2022-10-31 05:57:30+00:00     BraverCrypto   \n",
            "..                        ...              ...   \n",
            "106 2022-10-30 08:44:12+00:00         PadiSwap   \n",
            "107 2022-10-30 08:28:19+00:00       Deluxe_Ape   \n",
            "108 2022-10-30 08:25:02+00:00    AltCryptoGems   \n",
            "109 2022-10-30 08:24:11+00:00   CryptoBull3000   \n",
            "110 2022-10-30 08:01:40+00:00       Maxi__1981   \n",
            "\n",
            "                                                 Tweet  \n",
            "0    I Found new hidden gem 💎👸 Expected 3x ⌛I will ...  \n",
            "1                   Gm☕️🍪🍪🍪\\n\\nHappy Halloween 🎃🫡 http  \n",
            "2    🎉Crocodile Gang x The Apesons🎉\\n\\n5 X #FreeMin...  \n",
            "3    🎁 #NFTGiveaway 🎁\\n\\n📢You have the chance to wi...  \n",
            "4    HIGH RISK TRADE\\n\\nAped into $BABYVINE - only ...  \n",
            "..                                                 ...  \n",
            "106  New #Crypto GIVEAWAY !  100 $PADI Tokens  [@Ve...  \n",
            "107  🎁 Weekly #Giveaway\\n\\n🏆 1x WL\\n⏰ 48 Hrs\\n\\nTo ...  \n",
            "108         Would you rather have $1m in #BTC or #ETH?  \n",
            "109  ⚠️⚠️⚠️ $Meishu ⚠️⚠️⚠️\\n\\nXBOX ?! 🤯\\nCRYTEK ?! ...  \n",
            "110  🚀🌓 TTM FIRST QUARTER MINT 🌓🚀\\n\\n➡️ 🔥 1st Novem...  \n",
            "\n",
            "[111 rows x 3 columns]\n"
          ]
        }
      ],
      "source": [
        "print(tweetsDF)"
      ]
    },
    {
      "cell_type": "markdown",
      "metadata": {
        "id": "FPBjEFiA6Vzj"
      },
      "source": [
        "**Save Tweets**"
      ]
    },
    {
      "cell_type": "code",
      "execution_count": null,
      "metadata": {
        "id": "0mIijzlw6YwB"
      },
      "outputs": [],
      "source": [
        "tweetsDF.to_csv('tweets.csv')"
      ]
    },
    {
      "cell_type": "markdown",
      "metadata": {
        "id": "TxIzpkzY_Tqp"
      },
      "source": [
        "# *Sentiment Analysis*"
      ]
    },
    {
      "cell_type": "markdown",
      "metadata": {
        "id": "BjQ_4_8OBEPQ"
      },
      "source": [
        "**Tweet Classifications**"
      ]
    },
    {
      "cell_type": "code",
      "execution_count": 72,
      "metadata": {
        "id": "rA7r44CxBKJC"
      },
      "outputs": [],
      "source": [
        "target = []\n",
        "for index in range(len(tweetsDF.Tweet)):\n",
        "  encodedTweet = tokenizer(tweetsDF.Tweet[index], return_tensors='pt')\n",
        "  roBERTaBottleNeck = model(**encodedTweet)\n",
        "  probabilities = softmax(roBERTaBottleNeck[0][0].detach().numpy())\n",
        "\n",
        "  target.append([tweetsDF.Tweet[index], labels[numpy.argmax(probabilities)]])"
      ]
    },
    {
      "cell_type": "markdown",
      "metadata": {
        "id": "TtF1ctvGB6Mz"
      },
      "source": [
        "**Classification Table**"
      ]
    },
    {
      "cell_type": "code",
      "execution_count": 73,
      "metadata": {
        "colab": {
          "base_uri": "https://localhost:8080/"
        },
        "id": "tBDbk7FLCB6m",
        "outputId": "5983efa7-622c-4357-aab7-0cd7476cf3bd"
      },
      "outputs": [
        {
          "output_type": "stream",
          "name": "stdout",
          "text": [
            "                                                 Tweet Annotation\n",
            "0    I Found new hidden gem 💎👸 Expected 3x ⌛I will ...   Positive\n",
            "1                   Gm☕️🍪🍪🍪\\n\\nHappy Halloween 🎃🫡 http   Positive\n",
            "2    🎉Crocodile Gang x The Apesons🎉\\n\\n5 X #FreeMin...    Neutral\n",
            "3    🎁 #NFTGiveaway 🎁\\n\\n📢You have the chance to wi...   Positive\n",
            "4    HIGH RISK TRADE\\n\\nAped into $BABYVINE - only ...    Neutral\n",
            "..                                                 ...        ...\n",
            "106  New #Crypto GIVEAWAY !  100 $PADI Tokens  [@Ve...    Neutral\n",
            "107  🎁 Weekly #Giveaway\\n\\n🏆 1x WL\\n⏰ 48 Hrs\\n\\nTo ...    Neutral\n",
            "108         Would you rather have $1m in #BTC or #ETH?    Neutral\n",
            "109  ⚠️⚠️⚠️ $Meishu ⚠️⚠️⚠️\\n\\nXBOX ?! 🤯\\nCRYTEK ?! ...    Neutral\n",
            "110  🚀🌓 TTM FIRST QUARTER MINT 🌓🚀\\n\\n➡️ 🔥 1st Novem...   Positive\n",
            "\n",
            "[111 rows x 2 columns]\n"
          ]
        }
      ],
      "source": [
        "targetTable = pandas.DataFrame(target, columns=['Tweet', 'Annotation'])\n",
        "print(targetTable)"
      ]
    },
    {
      "cell_type": "markdown",
      "source": [
        "**Normalize Result**"
      ],
      "metadata": {
        "id": "gGNjXPqqxrxJ"
      }
    },
    {
      "cell_type": "code",
      "source": [
        "countLabels = [0, 0, 0]\n",
        "for index in range(0, len(targetTable.Annotation)):\n",
        "  if targetTable.Annotation[index] == labels[0]:\n",
        "    countLabels[0] += 1\n",
        "  elif targetTable.Annotation[index] == labels[1]:\n",
        "    countLabels[1] += 1\n",
        "  elif targetTable.Annotation[index] == labels[2]:\n",
        "    countLabels[2] += 1\n",
        "\n",
        "print('Probability      : {:.2f} {:.2f} {:.2f}'.format(countLabels[0]/sum(countLabels), countLabels[1]/sum(countLabels), countLabels[2]/sum(countLabels)))\n",
        "print('Final Analysis   : {}'.format(labels[numpy.argmax(countLabels)]))\n",
        "print('Confidentiality  : {:.2f}%'.format(countLabels[numpy.argmax(countLabels)]/sum(countLabels)*100))"
      ],
      "metadata": {
        "colab": {
          "base_uri": "https://localhost:8080/"
        },
        "id": "LtRfqdkqxvn0",
        "outputId": "fa56c255-0529-4fd7-d088-9abdeacb10e5"
      },
      "execution_count": 74,
      "outputs": [
        {
          "output_type": "stream",
          "name": "stdout",
          "text": [
            "Probability      : 0.05 0.51 0.43\n",
            "Final Analysis   : Neutral\n",
            "Confidentiality  : 51.35%\n"
          ]
        }
      ]
    }
  ],
  "metadata": {
    "colab": {
      "collapsed_sections": [],
      "provenance": [],
      "authorship_tag": "ABX9TyMLaPGKcwQ+J1nelGy+7284",
      "include_colab_link": true
    },
    "kernelspec": {
      "display_name": "Python 3",
      "name": "python3"
    },
    "language_info": {
      "name": "python"
    }
  },
  "nbformat": 4,
  "nbformat_minor": 0
}