{
  "cells": [
    {
      "cell_type": "markdown",
      "metadata": {
        "id": "view-in-github",
        "colab_type": "text"
      },
      "source": [
        "<a href=\"https://colab.research.google.com/github/nakhimchea/sentiment_analysis_ipynb/blob/main/SmartSA.ipynb\" target=\"_parent\"><img src=\"https://colab.research.google.com/assets/colab-badge.svg\" alt=\"Open In Colab\"/></a>"
      ]
    },
    {
      "cell_type": "markdown",
      "metadata": {
        "id": "sLJi7Uq73aXi"
      },
      "source": [
        "# *Import Libraries*"
      ]
    },
    {
      "cell_type": "markdown",
      "metadata": {
        "id": "es668-bQ4eWU"
      },
      "source": [
        "**SmartSA: Analysis of Tweeter and Apply to Strategy**"
      ]
    },
    {
      "cell_type": "code",
      "execution_count": null,
      "metadata": {
        "id": "Tr6WFzvm2Vsa"
      },
      "outputs": [],
      "source": [
        "!pip install transformers\n",
        "from transformers import AutoTokenizer, AutoModelForSequenceClassification\n",
        "from scipy.special import softmax\n",
        "\n",
        "import time\n",
        "import numpy\n",
        "import pandas"
      ]
    },
    {
      "cell_type": "markdown",
      "metadata": {
        "id": "96Le8_eM3L_Q"
      },
      "source": [
        "**Twitter Scraping**"
      ]
    },
    {
      "cell_type": "code",
      "execution_count": null,
      "metadata": {
        "id": "cgMln_yB3v1h"
      },
      "outputs": [],
      "source": [
        "!pip install snscrape\n",
        "import snscrape.modules.twitter as twitter"
      ]
    },
    {
      "cell_type": "markdown",
      "metadata": {
        "id": "Z1x87Ank4KjS"
      },
      "source": [
        "# *Loading RoBERTa model*"
      ]
    },
    {
      "cell_type": "markdown",
      "metadata": {
        "id": "H2nUweSS-nqy"
      },
      "source": [
        "**Get Model**"
      ]
    },
    {
      "cell_type": "code",
      "execution_count": 69,
      "metadata": {
        "id": "Ntt_BP174jr7"
      },
      "outputs": [],
      "source": [
        "RoBERTa = 'cardiffnlp/twitter-roberta-base-sentiment'\n",
        "model = AutoModelForSequenceClassification.from_pretrained(RoBERTa)"
      ]
    },
    {
      "cell_type": "markdown",
      "metadata": {
        "id": "WutQEMPALRjQ"
      },
      "source": [
        "**Initialize Tokenizer**"
      ]
    },
    {
      "cell_type": "code",
      "execution_count": 70,
      "metadata": {
        "id": "DHXMGTGBLQNm"
      },
      "outputs": [],
      "source": [
        "tokenizer = AutoTokenizer.from_pretrained(RoBERTa)"
      ]
    },
    {
      "cell_type": "markdown",
      "metadata": {
        "id": "6ILhSd1ZLQBA"
      },
      "source": []
    },
    {
      "cell_type": "markdown",
      "metadata": {
        "id": "d5TEIGJE_F4H"
      },
      "source": [
        "**Sparse Labels**"
      ]
    },
    {
      "cell_type": "code",
      "execution_count": 71,
      "metadata": {
        "id": "NCfDoCaR_L0Q"
      },
      "outputs": [],
      "source": [
        "labels = ['Negative', 'Neutral', 'Positive']"
      ]
    },
    {
      "cell_type": "markdown",
      "metadata": {
        "id": "PwUhTxIK4sUE"
      },
      "source": [
        "# *Getting Data from Social Network (Twitter)*"
      ]
    },
    {
      "cell_type": "markdown",
      "metadata": {
        "id": "7VlHacE05GS6"
      },
      "source": [
        "**Search Query**"
      ]
    },
    {
      "cell_type": "code",
      "execution_count": 77,
      "metadata": {
        "id": "V0X9Tn6n5Epd"
      },
      "outputs": [],
      "source": [
        "query = 'Bitcoin BTC Ethereum ETH (cryptocurrency) min_replies:0 min_faves:0 min_retweets:0 since_time:{0} until_time:{1}'.format(str(1663002000 - 246400), str(1663002000)) #int(time.time())\n",
        "limit = 10000"
      ]
    },
    {
      "cell_type": "markdown",
      "metadata": {
        "id": "naBNBOMd5gRr"
      },
      "source": [
        "**Query Tweets and Preprocessing**"
      ]
    },
    {
      "cell_type": "code",
      "execution_count": 78,
      "metadata": {
        "id": "gUnKrdSK5pWI"
      },
      "outputs": [],
      "source": [
        "tweets = []\n",
        "for tweet in twitter.TwitterSearchScraper(query).get_items():\n",
        "  # print(tweet)\n",
        "  \n",
        "  #preprocessing tweets\n",
        "  tweetWords = []\n",
        "  for word in tweet.content.split(' '):\n",
        "    if word.startswith('@') and len(word) > 1:\n",
        "      word = '@user'\n",
        "    elif word.startswith('http'):\n",
        "      word = 'http'\n",
        "    elif (word.startswith('#') or word.startswith('$')) and len(word) > 1:\n",
        "      word = '#mention'\n",
        "    elif word.startswith('-') and len(word) > 1:\n",
        "      word = 'bad'\n",
        "    elif word.startswith('+') and len(word) > 1:\n",
        "      word = 'good'\n",
        "    tweetWords.append(word)\n",
        "  tweetContent = ' '.join(tweetWords)\n",
        "\n",
        "  toBeRemoved = True\n",
        "  for word in tweetContent.split(' '):\n",
        "    if word.startswith('Bitcoin') or word.startswith('bitcoin') or \\\n",
        "       word.startswith('BTC') or word.startswith('ETH') or \\\n",
        "       word.startswith('Ethereum') or word.startswith('ethereum') or \\\n",
        "       word.startswith('Cryptocurrency') or word.startswith('cryptocurrency'):\n",
        "       toBeRemoved = False\n",
        "\n",
        "  if tweetContent.startswith('#mention price update') or \\\n",
        "     tweetContent.startswith('1 Bitcoin') or \\\n",
        "     tweetContent.startswith('Current #mention price Alert'):\n",
        "    toBeRemoved = True\n",
        "\n",
        "  if len(tweets) == limit:\n",
        "    break\n",
        "  elif toBeRemoved:\n",
        "    continue\n",
        "  else:\n",
        "    tweets.append([tweet.date, tweet.username, tweetContent])\n",
        "\n",
        "tweetsDF = pandas.DataFrame(tweets, columns=['Date', 'User', 'Tweet'])"
      ]
    },
    {
      "cell_type": "markdown",
      "metadata": {
        "id": "icVTaiUJJujm"
      },
      "source": [
        "**Print DataFrame**"
      ]
    },
    {
      "cell_type": "code",
      "execution_count": 79,
      "metadata": {
        "colab": {
          "base_uri": "https://localhost:8080/"
        },
        "id": "XfLwOeRRJzdU",
        "outputId": "80e356ce-3da1-4350-c92c-4c1b29381406"
      },
      "outputs": [
        {
          "output_type": "stream",
          "name": "stdout",
          "text": [
            "                         Date            User  \\\n",
            "0   2022-09-12 16:56:31+00:00   cryptoalerted   \n",
            "1   2022-09-12 16:18:08+00:00    CurrencyNews   \n",
            "2   2022-09-12 16:05:35+00:00        coin3net   \n",
            "3   2022-09-12 16:04:03+00:00  FoxCryptoNews2   \n",
            "4   2022-09-12 16:00:02+00:00   tycoonsuccess   \n",
            "..                        ...             ...   \n",
            "226 2022-09-09 21:25:10+00:00    CurrencyNews   \n",
            "227 2022-09-09 21:07:54+00:00        coin3net   \n",
            "228 2022-09-09 20:56:07+00:00   cryptoalerted   \n",
            "229 2022-09-09 20:55:42+00:00    CryptoCoinz_   \n",
            "230 2022-09-09 20:54:07+00:00    CurrencyNews   \n",
            "\n",
            "                                                 Tweet  \n",
            "0    As the Ethereum Merge Draws Near, Google Launc...  \n",
            "1    Crypto's Big Number: Daily Bitcoin Mining Reve...  \n",
            "2    While the banks were closed, Bitcoin reached 5...  \n",
            "3    Bitcoin bounced up before the US announced CPI...  \n",
            "4    Ethereum Merge/ETH 2.0\\n\\nThe Merge is expecte...  \n",
            "..                                                 ...  \n",
            "226  Bitcoin spikes 10% on news of potential bannin...  \n",
            "227  3 reasons why Bitcoin traders should be bullis...  \n",
            "228  3 Bitcoin price metrics suggest Sept. 9’s 10% ...  \n",
            "229  Why The Ethereum Price Could Rally Above #ment...  \n",
            "230  Market Wrap: Bitcoin Notches Biggest Gain in 6...  \n",
            "\n",
            "[231 rows x 3 columns]\n"
          ]
        }
      ],
      "source": [
        "print(tweetsDF)"
      ]
    },
    {
      "cell_type": "markdown",
      "metadata": {
        "id": "TxIzpkzY_Tqp"
      },
      "source": [
        "# *Sentiment Analysis*"
      ]
    },
    {
      "cell_type": "markdown",
      "metadata": {
        "id": "BjQ_4_8OBEPQ"
      },
      "source": [
        "**Tweet Classifications**"
      ]
    },
    {
      "cell_type": "code",
      "execution_count": 80,
      "metadata": {
        "id": "rA7r44CxBKJC"
      },
      "outputs": [],
      "source": [
        "target = []\n",
        "for index in range(len(tweetsDF.Tweet)):\n",
        "  encodedTweet = tokenizer(tweetsDF.Tweet[index], return_tensors='pt')\n",
        "  roBERTaBottleNeck = model(**encodedTweet)\n",
        "  probabilities = softmax(roBERTaBottleNeck[0][0].detach().numpy())\n",
        "  #probabilities = [probabilities[0]+probabilities[1], probabilities[1]+probabilities[2]]\n",
        "\n",
        "  #newLabels = ['Negative', 'Positive']\n",
        "  target.append([tweetsDF.Tweet[index], labels[numpy.argmax(probabilities)]])"
      ]
    },
    {
      "cell_type": "markdown",
      "metadata": {
        "id": "TtF1ctvGB6Mz"
      },
      "source": [
        "**Classification Table**"
      ]
    },
    {
      "cell_type": "code",
      "execution_count": 81,
      "metadata": {
        "colab": {
          "base_uri": "https://localhost:8080/"
        },
        "id": "tBDbk7FLCB6m",
        "outputId": "975bc6a4-6765-4202-f72d-1600ab9ae4b0"
      },
      "outputs": [
        {
          "output_type": "stream",
          "name": "stdout",
          "text": [
            "                                                 Tweet Annotation\n",
            "0    As the Ethereum Merge Draws Near, Google Launc...    Neutral\n",
            "1    Crypto's Big Number: Daily Bitcoin Mining Reve...    Neutral\n",
            "2    While the banks were closed, Bitcoin reached 5...   Positive\n",
            "3    Bitcoin bounced up before the US announced CPI...   Positive\n",
            "4    Ethereum Merge/ETH 2.0\\n\\nThe Merge is expecte...    Neutral\n",
            "..                                                 ...        ...\n",
            "226  Bitcoin spikes 10% on news of potential bannin...    Neutral\n",
            "227  3 reasons why Bitcoin traders should be bullis...    Neutral\n",
            "228  3 Bitcoin price metrics suggest Sept. 9’s 10% ...    Neutral\n",
            "229  Why The Ethereum Price Could Rally Above #ment...    Neutral\n",
            "230  Market Wrap: Bitcoin Notches Biggest Gain in 6...   Positive\n",
            "\n",
            "[231 rows x 2 columns]\n"
          ]
        }
      ],
      "source": [
        "targetTable = pandas.DataFrame(target, columns=['Tweet', 'Annotation'])\n",
        "print(targetTable)"
      ]
    },
    {
      "cell_type": "markdown",
      "source": [
        "**Normalize Result**"
      ],
      "metadata": {
        "id": "gGNjXPqqxrxJ"
      }
    },
    {
      "cell_type": "code",
      "source": [
        "countLabels = [0, 0, 0]\n",
        "for index in range(0, len(targetTable.Annotation)):\n",
        "  if targetTable.Annotation[index] == labels[0]:\n",
        "    countLabels[0] += 1\n",
        "  elif targetTable.Annotation[index] == labels[1]:\n",
        "    countLabels[1] += 1\n",
        "  elif targetTable.Annotation[index] == labels[2]:\n",
        "    countLabels[2] += 1\n",
        "\n",
        "if(sum(countLabels) != 0):\n",
        "  print('Probability      : {:.2f} {:.2f} {:.2f}'.format(countLabels[0]/sum(countLabels), countLabels[1]/sum(countLabels), countLabels[2]/sum(countLabels)))\n",
        "  print('Final Analysis   : {}'.format(labels[numpy.argmax(countLabels)]))\n",
        "  print('Confidentiality  : {:.2f}%'.format(countLabels[numpy.argmax(countLabels)]/sum(countLabels)*100))"
      ],
      "metadata": {
        "colab": {
          "base_uri": "https://localhost:8080/"
        },
        "id": "LtRfqdkqxvn0",
        "outputId": "df3a24b2-5bc7-4ae3-a676-bfe38a866a6b"
      },
      "execution_count": 82,
      "outputs": [
        {
          "output_type": "stream",
          "name": "stdout",
          "text": [
            "Probability      : 0.06 0.75 0.19\n",
            "Final Analysis   : Neutral\n",
            "Confidentiality  : 74.89%\n"
          ]
        }
      ]
    }
  ],
  "metadata": {
    "colab": {
      "collapsed_sections": [],
      "provenance": [],
      "authorship_tag": "ABX9TyN0aJJ5ZLYmKZGYb8Va8uwE",
      "include_colab_link": true
    },
    "kernelspec": {
      "display_name": "Python 3",
      "name": "python3"
    },
    "language_info": {
      "name": "python"
    }
  },
  "nbformat": 4,
  "nbformat_minor": 0
}